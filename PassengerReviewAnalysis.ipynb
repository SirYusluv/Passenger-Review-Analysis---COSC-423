{
 "cells": [
  {
   "cell_type": "code",
   "execution_count": 1,
   "id": "8a4ff01d",
   "metadata": {},
   "outputs": [
    {
     "name": "stdout",
     "output_type": "stream",
     "text": [
      "How many people are entering their review?\n",
      "2\n"
     ]
    }
   ],
   "source": [
    "# input and initialization\n",
    "\n",
    "num_of_rev = int(input(\"How many people are entering their review?\\n\"))\n",
    "\n",
    "board_rev_arr, transport_rev_arr, alight_rev_arr = [], [], []"
   ]
  },
  {
   "cell_type": "code",
   "execution_count": 2,
   "id": "a8958af8",
   "metadata": {},
   "outputs": [
    {
     "name": "stdout",
     "output_type": "stream",
     "text": [
      "For customer 1: Enter your review for the boarding processok, it wasn't that bad!!\n",
      "For customer 1: Enter your review for the transporting systemworse\n",
      "For customer 1: Enter your review for the alighting processnot cool\n",
      "For customer 2: Enter your review for the boarding processit can better\n",
      "For customer 2: Enter your review for the transporting systemit seems alright\n",
      "For customer 2: Enter your review for the alighting processvery bad\n"
     ]
    }
   ],
   "source": [
    "# take reviews\n",
    "\n",
    "for i in range(num_of_rev):\n",
    "    board_rev_arr.append(input(f\"For customer {i + 1}: Enter your review for the boarding process\"))\n",
    "    transport_rev_arr.append(input(f\"For customer {i + 1}: Enter your review for the transporting system\"))\n",
    "    alight_rev_arr.append(input(f\"For customer {i + 1}: Enter your review for the alighting process\"))"
   ]
  },
  {
   "cell_type": "code",
   "execution_count": 3,
   "id": "3e5d314b",
   "metadata": {},
   "outputs": [
    {
     "name": "stderr",
     "output_type": "stream",
     "text": [
      "[nltk_data] Downloading package stopwords to\n",
      "[nltk_data]     C:\\Users\\yusuf\\AppData\\Roaming\\nltk_data...\n",
      "[nltk_data]   Package stopwords is already up-to-date!\n",
      "[nltk_data] Downloading package punkt to\n",
      "[nltk_data]     C:\\Users\\yusuf\\AppData\\Roaming\\nltk_data...\n",
      "[nltk_data]   Package punkt is already up-to-date!\n",
      "[nltk_data] Downloading package wordnet to\n",
      "[nltk_data]     C:\\Users\\yusuf\\AppData\\Roaming\\nltk_data...\n",
      "[nltk_data]   Package wordnet is already up-to-date!\n"
     ]
    }
   ],
   "source": [
    "import text2emotion as te\n",
    "import numpy as np\n",
    "import matplotlib.pyplot as plt"
   ]
  },
  {
   "cell_type": "code",
   "execution_count": 34,
   "id": "77ed49b8",
   "metadata": {},
   "outputs": [
    {
     "name": "stdout",
     "output_type": "stream",
     "text": [
      "Board emotion: [{'Happy': 0, 'Angry': 0, 'Surprise': 0, 'Sad': 0, 'Fear': 0}, {'Happy': 0, 'Angry': 0, 'Surprise': 0, 'Sad': 0, 'Fear': 0}]\n",
      "Transport emotion: [{'Happy': 0.0, 'Angry': 0.0, 'Surprise': 0.0, 'Sad': 1.0, 'Fear': 0.0}, {'Happy': 0, 'Angry': 0, 'Surprise': 0, 'Sad': 0, 'Fear': 0}]\n",
      "Alight emotion: [{'Happy': 0.0, 'Angry': 1.0, 'Surprise': 0.0, 'Sad': 0.0, 'Fear': 0.0}, {'Happy': 0, 'Angry': 0, 'Surprise': 0, 'Sad': 0, 'Fear': 0}]\n"
     ]
    }
   ],
   "source": [
    "board_rev_arr_em = [te.get_emotion(board_rev_arr[i]) for i in range(len(board_rev_arr))]\n",
    "transport_rev_arr_em = [te.get_emotion(transport_rev_arr[i]) for i in range(len(transport_rev_arr))]\n",
    "alight_rev_arr_em = [te.get_emotion(alight_rev_arr[i]) for i in range(len(alight_rev_arr))]\n",
    "\n",
    "print(f'Board emotion: {board_rev_arr_em}', f'Transport emotion: {transport_rev_arr_em}', f'Alight emotion: {alight_rev_arr_em}', sep='\\n')"
   ]
  },
  {
   "cell_type": "code",
   "execution_count": 53,
   "id": "4a4dfb07",
   "metadata": {},
   "outputs": [
    {
     "name": "stdout",
     "output_type": "stream",
     "text": [
      "\n",
      "Average for board process:\n",
      "Happy: 0.0\n",
      "Angry: 0.0\n",
      "Surprise: 0.0\n",
      "Sad: 0.0\n",
      "Fear: 0.0\n",
      "\n",
      "Average for transport system:\n",
      "Happy: 0.0\n",
      "Angry: 0.0\n",
      "Surprise: 0.0\n",
      "Sad: 0.5\n",
      "Fear: 0.0\n",
      "\n",
      "Average for alight system:\n",
      "Happy: 0.0\n",
      "Angry: 0.5\n",
      "Surprise: 0.0\n",
      "Sad: 0.0\n",
      "Fear: 0.0\n"
     ]
    }
   ],
   "source": [
    "# Calculate average for all emotions considered\n",
    "\n",
    "#init\n",
    "board_happy, board_angry, board_surprise, board_sad, board_fear = 0, 0, 0, 0, 0\n",
    "transport_happy, transport_angry, transport_surprise, transport_sad, transport_fear = 0, 0, 0, 0, 0\n",
    "alight_happy, alight_angry, alight_surprise, alight_sad, alight_fear = 0, 0, 0, 0, 0\n",
    "\n",
    "# Board\n",
    "for i in range(num_of_rev):\n",
    "    board_happy += board_rev_arr_em[i]['Happy']\n",
    "    board_angry += board_rev_arr_em[i]['Angry']\n",
    "    board_surprise += board_rev_arr_em[i]['Surprise']\n",
    "    board_sad += board_rev_arr_em[i]['Sad']\n",
    "    board_fear += board_rev_arr_em[i]['Fear']\n",
    "    \n",
    "# Transport\n",
    "for i in range(num_of_rev):\n",
    "    transport_happy += transport_rev_arr_em[i]['Happy']\n",
    "    transport_angry += transport_rev_arr_em[i]['Angry']\n",
    "    transport_surprise += transport_rev_arr_em[i]['Surprise']\n",
    "    transport_sad += transport_rev_arr_em[i]['Sad']\n",
    "    transport_fear += transport_rev_arr_em[i]['Fear']\n",
    "    \n",
    "# Alight\n",
    "for i in range(num_of_rev):\n",
    "    alight_happy += alight_rev_arr_em[i]['Happy']\n",
    "    alight_angry += alight_rev_arr_em[i]['Angry']\n",
    "    alight_surprise += alight_rev_arr_em[i]['Surprise']\n",
    "    alight_sad += alight_rev_arr_em[i]['Sad']\n",
    "    alight_fear += alight_rev_arr_em[i]['Fear']\n",
    "    \n",
    "# calculate average\n",
    "board_happy_avg, board_angry_avg, board_surprise_avg, board_sad_avg, board_fear_avg = board_happy/num_of_rev, board_angry/num_of_rev, board_surprise/num_of_rev, board_sad/num_of_rev, board_fear/num_of_rev\n",
    "transport_happy_avg, transport_angry_avg, transport_surprise_avg, transport_sad_avg, transport_fear_avg = transport_happy/num_of_rev, transport_angry/num_of_rev, transport_surprise/num_of_rev, transport_sad/num_of_rev, transport_fear/num_of_rev\n",
    "alight_happy_avg, alight_angry_avg, alight_surprise_avg, alight_sad_avg, alight_fear_avg = alight_happy/num_of_rev, alight_angry/num_of_rev, alight_surprise/num_of_rev, alight_sad/num_of_rev, alight_fear/num_of_rev\n",
    "\n",
    "\n",
    "# print average for board\n",
    "print(\"\\nAverage for board process:\")\n",
    "print(f'Happy: {board_happy_avg}')\n",
    "print(f'Angry: {board_angry_avg}')\n",
    "print(f'Surprise: {board_surprise_avg}')\n",
    "print(f'Sad: {board_sad_avg}')\n",
    "print(f'Fear: {board_fear_avg}')\n",
    "\n",
    "# print average for transport\n",
    "print(\"\\nAverage for transport system:\")\n",
    "print(f'Happy: {transport_happy_avg}')\n",
    "print(f'Angry: {transport_angry_avg}')\n",
    "print(f'Surprise: {transport_surprise_avg}')\n",
    "print(f'Sad: {transport_sad_avg}')\n",
    "print(f'Fear: {transport_fear_avg}')\n",
    "\n",
    "# print average for alight\n",
    "print(\"\\nAverage for alight system:\")\n",
    "print(f'Happy: {alight_happy_avg}')\n",
    "print(f'Angry: {alight_angry_avg}')\n",
    "print(f'Surprise: {alight_surprise_avg}')\n",
    "print(f'Sad: {alight_sad_avg}')\n",
    "print(f'Fear: {alight_fear_avg}')"
   ]
  },
  {
   "cell_type": "code",
   "execution_count": 56,
   "id": "4ecc9a8b",
   "metadata": {},
   "outputs": [
    {
     "data": {
      "image/png": "[encoded data removed]",
      "text/plain": [
       "<Figure size 640x480 with 1 Axes>"
      ]
     },
     "metadata": {},
     "output_type": "display_data"
    }
   ],
   "source": [
    "bar_labels=['Happy','Angry','Surprise','Sad','Fear']\n",
    "\n",
    "# Bar chart for board process\n",
    "left_coordinates=[1,2,3,4,5]\n",
    "heights=[board_happy_avg, board_angry_avg, board_surprise_avg, board_sad_avg, board_fear_avg]\n",
    "plt.bar(left_coordinates,heights,tick_label=bar_labels)\n",
    "plt.xlabel('Emotion')\n",
    "plt.ylabel('Average')\n",
    "plt.title(\"Board\")\n",
    "plt.show()"
   ]
  },
  {
   "cell_type": "code",
   "execution_count": 57,
   "id": "f2cd2884",
   "metadata": {},
   "outputs": [
    {
     "data": {
      "image/png": "[encoded data removed]",
      "text/plain": [
       "<Figure size 640x480 with 1 Axes>"
      ]
     },
     "metadata": {},
     "output_type": "display_data"
    }
   ],
   "source": [
    "# Bar chart for board process\n",
    "left_coordinates=[1,2,3,4,5]\n",
    "heights=[transport_happy_avg, transport_angry_avg, transport_surprise_avg, transport_sad_avg, transport_fear_avg]\n",
    "plt.bar(left_coordinates,heights,tick_label=bar_labels)\n",
    "plt.xlabel('Emotion')\n",
    "plt.ylabel('Average')\n",
    "plt.title(\"Transport\")\n",
    "plt.show()"
   ]
  },
  {
   "cell_type": "code",
   "execution_count": 58,
   "id": "af60148c",
   "metadata": {},
   "outputs": [
    {
     "data": {
      "image/png": "[encoded data removed]",
      "text/plain": [
       "<Figure size 640x480 with 1 Axes>"
      ]
     },
     "metadata": {},
     "output_type": "display_data"
    }
   ],
   "source": [
    "# Bar chart for board process\n",
    "left_coordinates=[1,2,3,4,5]\n",
    "heights=[alight_happy_avg, alight_angry_avg, alight_surprise_avg, alight_sad_avg, alight_fear_avg]\n",
    "plt.bar(left_coordinates,heights,tick_label=bar_labels)\n",
    "plt.xlabel('Emotion')\n",
    "plt.ylabel('Average')\n",
    "plt.title(\"Alight\")\n",
    "plt.show()"
   ]
  },
  {
   "cell_type": "code",
   "execution_count": 89,
   "id": "476288af",
   "metadata": {},
   "outputs": [],
   "source": [
    "import nltk\n",
    "from nltk.sentiment.vader import SentimentIntensityAnalyzer\n",
    "\n",
    "# check reviews using SentimentIntensityAnalyser\n",
    "sia = SentimentIntensityAnalyzer()\n",
    "positive_count, negative_count, neutral_count = 0, 0, 0\n",
    "\n",
    "for rev in board_rev_arr:\n",
    "    sentiment = sia.polarity_scores(rev)\n",
    "    if sentiment['compound'] > 0.5:\n",
    "        positive_count += 1\n",
    "    elif sentiment['compound'] < -0.5:\n",
    "        negative_count += 1\n",
    "    else:\n",
    "        neutral_count += 1\n",
    "\n",
    "for rev in transport_rev_arr:\n",
    "    sentiment = sia.polarity_scores(rev)\n",
    "    if sentiment['compound'] > 0.5:\n",
    "        positive_count += 1\n",
    "    elif sentiment['compound'] < -0.5:\n",
    "        negative_count += 1\n",
    "    else:\n",
    "        neutral_count += 1\n",
    "\n",
    "for rev in alight_rev_arr:\n",
    "    sentiment = sia.polarity_scores(rev)\n",
    "    if sentiment['compound'] > 0.5:\n",
    "        positive_count += 1\n",
    "    elif sentiment['compound'] < -0.5:\n",
    "        negative_count += 1\n",
    "    else:\n",
    "        neutral_count += 1"
   ]
  },
  {
   "cell_type": "code",
   "execution_count": 86,
   "id": "92e2407c",
   "metadata": {},
   "outputs": [],
   "source": [
    "# calculate average for everything\n",
    "\n",
    "happy_avg = (board_happy_avg + transport_happy_avg + alight_happy_avg)/3\n",
    "angry_avg = (board_angry_avg + transport_angry_avg + alight_angry_avg)/3\n",
    "surprise_avg = (board_surprise_avg + transport_surprise_avg + alight_surprise_avg)/3\n",
    "sad_avg = (board_sad_avg + transport_sad_avg + alight_sad_avg)/3\n",
    "fear_avg = (board_fear_avg + transport_fear_avg + alight_fear_avg)/3"
   ]
  },
  {
   "cell_type": "code",
   "execution_count": 92,
   "id": "00cbfc83",
   "metadata": {},
   "outputs": [
    {
     "name": "stdout",
     "output_type": "stream",
     "text": [
      "16.67% shows angry emotion in their comment.\n",
      "16.67% shows sad emotion in their comment.\n",
      "\n",
      "\n",
      "You have 1 positive reviews\n",
      "You have 1 negative reviews\n",
      "You have 4 neutral reviews\n"
     ]
    }
   ],
   "source": [
    "# print summary\n",
    "\n",
    "if happy_avg > 0: print('{:0.2f}% shows happy emotion in their comment.'.format(happy_avg*100))\n",
    "if angry_avg > 0: print('{:0.2f}% shows angry emotion in their comment.'.format(angry_avg*100))\n",
    "if surprise_avg > 0: print('{:0.2f}% shows surprise emotion in their comment.'.format(surprise_avg*100))\n",
    "if sad_avg > 0: print('{:0.2f}% shows sad emotion in their comment.'.format(sad_avg*100))\n",
    "if fear_avg > 0: print('{:0.2f}% shows fear emotion in their comment.'.format(fear_avg*100))\n",
    "\n",
    "print('\\n')\n",
    "\n",
    "print(f'You have {positive_count} positive reviews')\n",
    "print(f'You have {negative_count} negative reviews')\n",
    "print(f'You have {neutral_count} neutral reviews')"
   ]
  }
 ],
 "metadata": {
  "kernelspec": {
   "display_name": "Python 3.10.1 64-bit",
   "language": "python",
   "name": "python3"
  },
  "language_info": {
   "codemirror_mode": {
    "name": "ipython",
    "version": 3
   },
   "file_extension": ".py",
   "mimetype": "text/x-python",
   "name": "python",
   "nbconvert_exporter": "python",
   "pygments_lexer": "ipython3",
   "version": "3.10.1"
  },
  "vscode": {
   "interpreter": {
    "hash": "369f2c481f4da34e4445cda3fffd2e751bd1c4d706f27375911949ba6bb62e1c"
   }
  }
 },
 "nbformat": 4,
 "nbformat_minor": 5
}
